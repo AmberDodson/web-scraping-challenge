{
 "cells": [
  {
   "cell_type": "code",
   "execution_count": 1,
   "id": "c2e8246b",
   "metadata": {
    "collapsed": false,
    "deletable": true,
    "editable": true
   },
   "outputs": [
    {
     "ename": "ModuleNotFoundError",
     "evalue": "No module named 'splinter'",
     "output_type": "error",
     "traceback": [
      "\u001b[1;31m---------------------------------------------------------------------------\u001b[0m",
      "\u001b[1;31mModuleNotFoundError\u001b[0m                       Traceback (most recent call last)",
      "\u001b[1;32m<ipython-input-1-63d43374bd16>\u001b[0m in \u001b[0;36m<module>\u001b[1;34m\u001b[0m\n\u001b[0;32m      1\u001b[0m \u001b[1;32mimport\u001b[0m \u001b[0mtime\u001b[0m\u001b[1;33m\u001b[0m\u001b[1;33m\u001b[0m\u001b[0m\n\u001b[0;32m      2\u001b[0m \u001b[1;32mimport\u001b[0m \u001b[0mpandas\u001b[0m \u001b[1;32mas\u001b[0m \u001b[0mpd\u001b[0m\u001b[1;33m\u001b[0m\u001b[1;33m\u001b[0m\u001b[0m\n\u001b[1;32m----> 3\u001b[1;33m \u001b[1;32mfrom\u001b[0m \u001b[0msplinter\u001b[0m \u001b[1;32mimport\u001b[0m \u001b[0mBrowser\u001b[0m\u001b[1;33m\u001b[0m\u001b[1;33m\u001b[0m\u001b[0m\n\u001b[0m\u001b[0;32m      4\u001b[0m \u001b[1;32mfrom\u001b[0m \u001b[0mbs4\u001b[0m \u001b[1;32mimport\u001b[0m \u001b[0mBeautifulSoup\u001b[0m\u001b[1;33m\u001b[0m\u001b[1;33m\u001b[0m\u001b[0m\n\u001b[0;32m      5\u001b[0m \u001b[1;32mfrom\u001b[0m \u001b[0mwebdriver_manager\u001b[0m\u001b[1;33m.\u001b[0m\u001b[0mchrome\u001b[0m \u001b[1;32mimport\u001b[0m \u001b[0mChromeDriverManager\u001b[0m\u001b[1;33m\u001b[0m\u001b[1;33m\u001b[0m\u001b[0m\n",
      "\u001b[1;31mModuleNotFoundError\u001b[0m: No module named 'splinter'"
     ]
    }
   ],
   "source": [
    "import time\n",
    "import pandas as pd\n",
    "from splinter import Browser\n",
    "from bs4 import BeautifulSoup\n",
    "from webdriver_manager.chrome import ChromeDriverManager\n",
    "import sys"
   ]
  },
  {
   "cell_type": "code",
   "execution_count": 2,
   "id": "25cc0b55",
   "metadata": {
    "collapsed": true,
    "deletable": true,
    "editable": true
   },
   "outputs": [],
   "source": [
    "def scraper():\n",
    "    #set up Splinter\n",
    "    executable_path={\"executable_path\":ChromeDriverManager().install()}\n",
    "    browser=Browser('chrome', **executable_path, headless=True)\n",
    "    #visit mars\n",
    "    url=\"https://redplanetscience.com\"\n",
    "    browser.visit(url)\n",
    "    \n",
    "    time.sleep(2)\n",
    "    \n",
    "    #scrape page into soup\n",
    "    html=browser.html\n",
    "    soup=BeautifulSoup(html, \"lxml\")\n",
    "    \n",
    "    #get the data\n",
    "    div=soup.find('div', {'class':'row'})\n",
    "    news_title=div.find('div', {'class':'content_title'}).text\n",
    "    news_p=div.find('div', {'class':'article_teaser_body'}).text\n",
    "    #store data in dictionary\n",
    "    mars_data={\n",
    "        'news_title':'',\n",
    "        'news_p':''   \n",
    "    }\n",
    "    \n",
    "    browser.quit()\n",
    "    return mars_data"
   ]
  },
  {
   "cell_type": "code",
   "execution_count": 3,
   "id": "b3163251",
   "metadata": {
    "collapsed": false,
    "deletable": true,
    "editable": true
   },
   "outputs": [
    {
     "ename": "SyntaxError",
     "evalue": "invalid syntax (<ipython-input-3-cbfd9acf7a4d>, line 18)",
     "output_type": "error",
     "traceback": [
      "\u001b[1;36m  File \u001b[1;32m\"<ipython-input-3-cbfd9acf7a4d>\"\u001b[1;36m, line \u001b[1;32m18\u001b[0m\n\u001b[1;33m    featured_image_url=div.find(img).[\"src\"]\u001b[0m\n\u001b[1;37m                                     ^\u001b[0m\n\u001b[1;31mSyntaxError\u001b[0m\u001b[1;31m:\u001b[0m invalid syntax\n"
     ]
    }
   ],
   "source": [
    "#JPL Mars Space Images - Featured Image\n",
    "def img_scraper():\n",
    "    #set up Splinter\n",
    "    executable_path={\"executable_path\":ChromeDriverManager().install()}\n",
    "    browser=Browser('chrome', **executable_path, headless=True)\n",
    "    \n",
    "    url=\"https://spaceimages-mars.com\"\n",
    "    browser.visit(url)\n",
    "    \n",
    "    time.sleep(2)\n",
    "    \n",
    "    #scrape page into soup\n",
    "    html=browser.html\n",
    "    soup=BeautifulSoup(html, \"lxml\")\n",
    "    \n",
    "    #get the data\n",
    "    div=soup.find('div', {'class':'floating-text-area'})\n",
    "    featured_image_url=div.find(img).[\"src\"]\n",
    "    #store data in dictionary\n",
    "    mars_img={\n",
    "        'featured_image_url':featured_image_url\n",
    "        \n",
    "    }\n",
    "    \n",
    "    browser.quit()\n",
    "    \n",
    "    return mars_img"
   ]
  },
  {
   "cell_type": "code",
   "execution_count": 4,
   "id": "7d0fe614",
   "metadata": {
    "collapsed": true,
    "deletable": true,
    "editable": true
   },
   "outputs": [],
   "source": [
    "url=\"https://galaxyfacts-mars.com\"\n",
    "tables=pd.read_html(url)\n",
    "df=tables[0]\n",
    "df.rename(columns={0:'comprasion', 1:'Mars', 2:'Earth'}, inplace=True)\n",
    "df.set_index('comprasion', inplace=True)\n",
    "df=df.iloc[1:]\n",
    "df.to_html('../html_table.html')"
   ]
  },
  {
   "cell_type": "code",
   "execution_count": 5,
   "id": "9397ca99",
   "metadata": {
    "collapsed": false,
    "deletable": true,
    "editable": true
   },
   "outputs": [
    {
     "ename": "NameError",
     "evalue": "name 'Browser' is not defined",
     "output_type": "error",
     "traceback": [
      "\u001b[1;31m---------------------------------------------------------------------------\u001b[0m",
      "\u001b[1;31mNameError\u001b[0m                                 Traceback (most recent call last)",
      "\u001b[1;32m<ipython-input-5-d2ac732ae453>\u001b[0m in \u001b[0;36m<module>\u001b[1;34m\u001b[0m\n\u001b[0;32m      3\u001b[0m     \u001b[1;31m#set up Splinter\u001b[0m\u001b[1;33m\u001b[0m\u001b[1;33m\u001b[0m\u001b[1;33m\u001b[0m\u001b[0m\n\u001b[0;32m      4\u001b[0m     \u001b[0mexecutable_path\u001b[0m\u001b[1;33m=\u001b[0m\u001b[1;33m{\u001b[0m\u001b[1;34m\"executable_path\"\u001b[0m\u001b[1;33m:\u001b[0m\u001b[0mChromeDriverManager\u001b[0m\u001b[1;33m(\u001b[0m\u001b[1;33m)\u001b[0m\u001b[1;33m.\u001b[0m\u001b[0minstall\u001b[0m\u001b[1;33m(\u001b[0m\u001b[1;33m)\u001b[0m\u001b[1;33m}\u001b[0m\u001b[1;33m\u001b[0m\u001b[1;33m\u001b[0m\u001b[0m\n\u001b[1;32m----> 5\u001b[1;33m \u001b[0mbrowser\u001b[0m\u001b[1;33m=\u001b[0m\u001b[0mBrowser\u001b[0m\u001b[1;33m(\u001b[0m\u001b[1;34m'chrome'\u001b[0m\u001b[1;33m,\u001b[0m \u001b[1;33m**\u001b[0m\u001b[0mexecutable_path\u001b[0m\u001b[1;33m,\u001b[0m \u001b[0mheadless\u001b[0m\u001b[1;33m=\u001b[0m\u001b[1;32mFalse\u001b[0m\u001b[1;33m)\u001b[0m\u001b[1;33m\u001b[0m\u001b[1;33m\u001b[0m\u001b[0m\n\u001b[0m\u001b[0;32m      6\u001b[0m \u001b[1;33m\u001b[0m\u001b[0m\n\u001b[0;32m      7\u001b[0m \u001b[0mlinks\u001b[0m\u001b[1;33m=\u001b[0m\u001b[1;33m[\u001b[0m\u001b[1;34m'cerberus.html'\u001b[0m\u001b[1;33m,\u001b[0m \u001b[1;34m'schiaparelli.html'\u001b[0m\u001b[1;33m,\u001b[0m \u001b[1;34m'syrtis.html'\u001b[0m\u001b[1;33m,\u001b[0m \u001b[1;34m'valles.html'\u001b[0m\u001b[1;33m]\u001b[0m\u001b[1;33m\u001b[0m\u001b[1;33m\u001b[0m\u001b[0m\n",
      "\u001b[1;31mNameError\u001b[0m: name 'Browser' is not defined"
     ]
    }
   ],
   "source": [
    "#mars_hemisphere\n",
    "def mars_hemisphere():\n",
    "    #set up Splinter\n",
    "    executable_path={\"executable_path\":ChromeDriverManager().install()}\n",
    "browser=Browser('chrome', **executable_path, headless=False)\n",
    "\n",
    "links=['cerberus.html', 'schiaparelli.html', 'syrtis.html', 'valles.html']\n",
    "#get the data\n",
    "hemisphere_image_urls = []\n",
    "for link in links:\n",
    "    url=\"https://marshemispheres.com\"+'/'+link\n",
    "    browser.visit(url)\n",
    "\n",
    "    time.sleep(2)\n",
    "\n",
    "    #scrape page into soup\n",
    "    html=browser.html\n",
    "    soup=BeautifulSoup(html, \"lxml\")\n",
    "    \n",
    "    news_p=soup.find_all('img')[4] ['src']\n",
    "    news_p_url=\"https://marshemispheres.com\"+'/'+news_p\n",
    "    div=soup.find('div', {'class':'cover'})\n",
    "    news_title=div.find('h2').text\n",
    "    #store data in dictionary\n",
    "    img_data={\n",
    "        'news_title':news_title,\n",
    "        'news_p':news_p_url \n",
    "    }\n",
    "\n",
    "    hemisphere_image_urls.append(img_data)\n",
    "    browser.quit()"
   ]
  },
  {
   "cell_type": "code",
   "execution_count": null,
   "id": "cd509a7d",
   "metadata": {
    "collapsed": false,
    "deletable": true,
    "editable": true
   },
   "outputs": [],
   "source": [
    "#all in one function\n",
    "def scraper_all():\n",
    "    #set up Splinter\n",
    "    executable_path={\"executable_path\":ChromeDriverManager().install()}\n",
    "    browser=Browser('chrome', **executable_path, headless=True)\n",
    "    #visit mars\n",
    "    url=\"https://redplanetscience.com\"\n",
    "    browser.visit(url)\n",
    "    \n",
    "    time.sleep(2)\n",
    "    \n",
    "    #scrape page into soup\n",
    "    html=browser.html\n",
    "    soup=BeautifulSoup(html, \"lxml\")\n",
    "    \n",
    "    #get the data\n",
    "    div=soup.find('div', {'class':'row'})\n",
    "    news_title=div.find('div', {'class':'content_title'}).text\n",
    "    news_p=div.find('div', {'class':'article_teaser_body'}).text\n",
    "    #store data in dictionary\n",
    "    mars_data={\n",
    "        'news_title':'',\n",
    "        'news_p':'',\n",
    "        'featured_image_url':''\n",
    "        \n",
    "    }\n",
    "    \n",
    "    browser.quit()\n",
    "    \n",
    "    #second\n",
    "    url=\"https://spaceimages-mars.com\"\n",
    "    browser.visit(url)\n",
    "    \n",
    "    time.sleep(2)\n",
    "    \n",
    "    #scrape page into soup\n",
    "    html=browser.html\n",
    "    soup=BeautifulSoup(html, \"lxml\")\n",
    "    \n",
    "    #get the data\n",
    "    div=soup.find('div', {'class':'row'})\n",
    "    featured_image_url=div.find('div', {'class':'article_teaser_body'}).text\n",
    "    #store data in dictionary\n",
    "    mars_data={\n",
    "        'featured_image_url':''\n",
    "        \n",
    "    }\n",
    "    \n",
    "    browser.quit()\n",
    "    \n",
    "    #third\n",
    "    url=\"https://galaxyfacts-mars.com\"\n",
    "    tables=pd.read_html(url)\n",
    "    df=tables[]\n",
    "    \n",
    "    #fourth\n",
    "    url=\"https://marshemispheres.com\"\n",
    "    browser.visit(url)\n",
    "    \n",
    "    time.sleep(2)\n",
    "    \n",
    " \n",
    "    \n",
    "    mars_image={}\n",
    "    #get the data\n",
    "    hemisphere_image_urls = []\n",
    "    for x in range(1,6):\n",
    "        #scrape page into soup\n",
    "        html=browser.html\n",
    "        soup=BeautifulSoup(html, \"lxml\")\n",
    "        \n",
    "        div=soup.find('div', {'class':'row'})\n",
    "        title = soup.find_all('span', class_='text')\n",
    "        image_url=soup.find_all('span', class_='text')\n",
    "        \n",
    "        img_data={\n",
    "            'title':title,\n",
    "            \"img_url\":image_url\n",
    "        }\n",
    "        \n",
    "        hemisphere_image_urls.append(img_data)\n",
    "    \n",
    "    \n",
    "        browser.links.find_by_partial_text('Next').click()\n",
    "    \n",
    "        #store data in dictionary\n",
    "        mars_data={\n",
    "            'featured_image_url':''\n",
    "        \n",
    "        }\n",
    "    \n",
    "    browser.quit()\n",
    "    \n",
    "\n",
    "    \n",
    "    return mars_data, df"
   ]
  },
  {
   "cell_type": "code",
   "execution_count": null,
   "id": "8a092373",
   "metadata": {
    "collapsed": false,
    "deletable": true,
    "editable": true
   },
   "outputs": [],
   "source": [
    "executable_path={\"executable_path\":ChromeDriverManager().install()}\n",
    "browser=Browser('chrome', **executable_path, headless=False)\n",
    "#visit mars\n",
    "url=\"https://redplanetscience.com\"\n",
    "browser.visit(url)\n",
    "\n",
    "time.sleep(2)\n",
    "\n",
    "#scrape page into soup\n",
    "html=browser.html\n",
    "soup=BeautifulSoup(html, \"lxml\")\n",
    "\n",
    "#get the data\n",
    "div=soup.find('div', {'class':'row'})\n",
    "news_title=div.find('div', {'class':'content_title'}).text\n",
    "news_p=div.find('div', {'class':'article_teaser_body'}).text\n",
    "#store data in dictionary\n",
    "\n",
    "print(news_title)\n",
    "print(news_p)"
   ]
  },
  {
   "cell_type": "code",
   "execution_count": null,
   "id": "41a01df9",
   "metadata": {
    "collapsed": false,
    "deletable": true,
    "editable": true
   },
   "outputs": [],
   "source": [
    "#set up Splinter\n",
    "executable_path={\"executable_path\":ChromeDriverManager().install()}\n",
    "browser=Browser('chrome', **executable_path, headless=False)\n",
    "\n",
    "url=\"https://spaceimages-mars.com\"\n",
    "browser.visit(url)\n",
    "\n",
    "time.sleep(2)\n",
    "\n",
    "#scrape page into soup\n",
    "html=browser.html\n",
    "soup=BeautifulSoup(html, \"lxml\")\n",
    "\n",
    "#get the data\n",
    "featured_image=soup.find_all('img')[1][\"src\"]\n",
    "featured_image_url=url+'/'+featured_image\n",
    "#store data in dictionary\n",
    "\n",
    "print(featured_image_url)"
   ]
  },
  {
   "cell_type": "code",
   "execution_count": null,
   "id": "37f2a6f0",
   "metadata": {
    "collapsed": false,
    "deletable": true,
    "editable": true
   },
   "outputs": [],
   "source": [
    "executable_path={\"executable_path\":ChromeDriverManager().install()}\n",
    "browser=Browser('chrome', **executable_path, headless=False)\n",
    "\n",
    "\n",
    "url=\"https://marshemispheres.com\"\n",
    "browser.visit(url)\n",
    "\n",
    "time.sleep(2)\n",
    "\n",
    "#get the data\n",
    "hemisphere_image_urls = []\n",
    "\n",
    "#scrape page into soup\n",
    "html=browser.html\n",
    "soup=BeautifulSoup(html, \"lxml\")\n",
    "\n",
    "#get the data\n",
    "\n",
    "div=soup.find('div', {'class':'item'})\n",
    "div2=div.find('div', {'class':'description'})\n",
    "news_title=div2.find('h3').text\n",
    "news_p=div.find_all('img')[0] ['src']\n",
    "news_p_url=url+'/'+news_p\n",
    "#store data in dictionary\n",
    "img_data={\n",
    "    'news_title':news_title,\n",
    "    'news_p':news_p_url \n",
    "}\n",
    "\n",
    "hemisphere_image_urls.append(img_data)\n",
    "\n",
    "\n",
    "print(links_with_text)"
   ]
  },
  {
   "cell_type": "code",
   "execution_count": null,
   "id": "b0d264c5",
   "metadata": {
    "collapsed": false,
    "deletable": true,
    "editable": true
   },
   "outputs": [],
   "source": [
    "executable_path={\"executable_path\":ChromeDriverManager().install()}\n",
    "browser=Browser('chrome', **executable_path, headless=False)\n",
    "\n",
    "links=['cerberus.html', 'schiaparelli.html', 'syrtis.html', 'valles.html']\n",
    "#get the data\n",
    "hemisphere_image_urls = []\n",
    "for link in links:\n",
    "    url=\"https://marshemispheres.com\"+'/'+link\n",
    "    browser.visit(url)\n",
    "\n",
    "    time.sleep(2)\n",
    "\n",
    "    #scrape page into soup\n",
    "    html=browser.html\n",
    "    soup=BeautifulSoup(html, \"lxml\")\n",
    "    \n",
    "    news_p=soup.find_all('img')[4] ['src']\n",
    "    news_p_url=\"https://marshemispheres.com\"+'/'+news_p\n",
    "    div=soup.find('div', {'class':'cover'})\n",
    "    news_title=div.find('h2').text\n",
    "    #store data in dictionary\n",
    "    img_data={\n",
    "        'news_title':news_title,\n",
    "        'news_p':news_p_url \n",
    "    }\n",
    "\n",
    "    hemisphere_image_urls.append(img_data)\n",
    "\n",
    "\n",
    "print(hemisphere_image_urls)"
   ]
  },
  {
   "cell_type": "code",
   "execution_count": null,
   "id": "cb46e67b",
   "metadata": {
    "collapsed": true,
    "deletable": true,
    "editable": true
   },
   "outputs": [],
   "source": []
  },
  {
   "cell_type": "code",
   "execution_count": null,
   "id": "0f6b70b6",
   "metadata": {
    "collapsed": true,
    "deletable": true,
    "editable": true
   },
   "outputs": [],
   "source": []
  },
  {
   "cell_type": "code",
   "execution_count": null,
   "id": "c53e379b",
   "metadata": {
    "collapsed": true,
    "deletable": true,
    "editable": true
   },
   "outputs": [],
   "source": []
  },
  {
   "cell_type": "code",
   "execution_count": null,
   "id": "b698dcfb",
   "metadata": {
    "collapsed": true,
    "deletable": true,
    "editable": true
   },
   "outputs": [],
   "source": []
  }
 ],
 "metadata": {
  "kernelspec": {
   "display_name": "Python 3",
   "language": "python",
   "name": "python3"
  },
  "language_info": {
   "codemirror_mode": {
    "name": "ipython",
    "version": 3
   },
   "file_extension": ".py",
   "mimetype": "text/x-python",
   "name": "python",
   "nbconvert_exporter": "python",
   "pygments_lexer": "ipython3",
   "version": "3.8.8"
  }
 },
 "nbformat": 4,
 "nbformat_minor": 5
}
